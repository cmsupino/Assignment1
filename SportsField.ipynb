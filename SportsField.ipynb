{
 "cells": [
  {
   "cell_type": "code",
   "execution_count": 13,
   "id": "aa1e8a3f-f0dc-426b-8eaf-59d479140d93",
   "metadata": {},
   "outputs": [],
   "source": [
    "#CHRISTINA SUPINO \n",
    "#40298851\n",
    "#ASSIGNMENT 1-MAST 397"
   ]
  },
  {
   "cell_type": "code",
   "execution_count": 14,
   "id": "745bdccf-92c6-4971-8e97-8e0b47c7c12e",
   "metadata": {},
   "outputs": [],
   "source": [
    "#Volleyball Court to Scale\n",
    "#This notebook draws a volleyball court using **official dimensions**.\n",
    "#Court length: 18 meters  \n",
    "#Court width: 9 meters  \n",
    "#Attack lines: 3 meters from the net  \n",
    "#The Editors of Encyclopaedia Britannica (2025, September 2). volleyball. Encyclopedia Britannica. \n",
    "      #https://www.britannica.com/sports/volleyball\n",
    "#Line Width:5cm;0.05m\n"
   ]
  },
  {
   "cell_type": "code",
   "execution_count": 15,
   "id": "280d6d41-827a-4b44-8f83-43dd915c80b9",
   "metadata": {},
   "outputs": [],
   "source": [
    "import matplotlib.pyplot as pyp\n",
    "import matplotlib.patches as pat\n",
    "import os"
   ]
  },
  {
   "cell_type": "code",
   "execution_count": 16,
   "id": "da0d606d-d67c-407e-b9cb-697906505921",
   "metadata": {},
   "outputs": [],
   "source": [
    "#Official volleyball court dimensions (all in meters)\n",
    "length=18 \n",
    "width=9\n",
    "net_pos=length/2\n",
    "#distance from net\n",
    "attack_line_dis=3\n",
    "lines=0.05"
   ]
  },
  {
   "cell_type": "code",
   "execution_count": 17,
   "id": "4bbc7fc6-e8cb-4409-be0d-bce9b942abbe",
   "metadata": {},
   "outputs": [],
   "source": [
    "#Scale the drawing to pixels by defining a function(1 meter=100 pixels)\n",
    "def world_to_pixel(x,y,pixels_per_meter=100):\n",
    "    return x*pixels_per_meter,y*pixels_per_meter"
   ]
  },
  {
   "cell_type": "code",
   "execution_count": 18,
   "id": "b04fb675-1783-481d-8cec-89e872346b59",
   "metadata": {},
   "outputs": [
    {
     "name": "stdout",
     "output_type": "stream",
     "text": [
      "Saved PNG at: /Users/christinasupino/Desktop/Assignment1/volleyball_court.png\n"
     ]
    },
    {
     "data": {
      "image/png": "[encoded data removed]",
      "text/plain": [
       "<Figure size 1200x600 with 1 Axes>"
      ]
     },
     "metadata": {},
     "output_type": "display_data"
    }
   ],
   "source": [
    "#Define a function to draw field\n",
    "def draw_volley(scale=100,save_path=None):\n",
    "    \n",
    "    \n",
    "# Image size in inches, proportional to court dimensions\n",
    "    aspect_ratio = length / width\n",
    "    fig_height = 6  # inches\n",
    "    fig_width = fig_height * aspect_ratio\n",
    "    fig, ax = pyp.subplots(figsize=(fig_width, fig_height))\n",
    "    \n",
    "# Convert court to pixel units\n",
    "    court_length_px, court_width_px = world_to_pixel(length, width, scale)\n",
    "    line_width_px = lines * scale \n",
    "    \n",
    "# Draw outer court\n",
    "    court = pat.Rectangle((0, 0), court_length_px, court_width_px,\n",
    "                      linewidth=0, edgecolor=None, facecolor='lightyellow')\n",
    "    ax.add_patch(court)\n",
    "\n",
    "\n",
    "# Draw net(grey line)\n",
    "    net_x, _ = world_to_pixel(net_pos, 0, scale)\n",
    "    ax.plot([net_x, net_x], [0, court_width_px], color='lightgrey', linewidth=line_width_px)\n",
    "    \n",
    "\n",
    " # Draw Attack lines(red lines)\n",
    "    attack_left_x, _ = world_to_pixel(net_pos - attack_line_dis, 0, scale)\n",
    "    attack_right_x, _ = world_to_pixel(net_pos + attack_line_dis, 0, scale)\n",
    "    ax.plot([attack_left_x, attack_left_x], [0, court_width_px], color='red', linewidth=line_width_px)\n",
    "    ax.plot([attack_right_x, attack_right_x], [0, court_width_px], color='red', linewidth=line_width_px)\n",
    "\n",
    "  # Draw Boundary lines(green lines)\n",
    "    ax.plot([0, court_length_px], [0, 0], color='green', linewidth=line_width_px)\n",
    "    ax.plot([0, court_length_px], [court_width_px, court_width_px], color='green', linewidth=line_width_px)\n",
    "    ax.plot([0, 0], [0, court_width_px], color='green', linewidth=line_width_px)\n",
    "    ax.plot([court_length_px, court_length_px], [0, court_width_px], color='green', linewidth=line_width_px)\n",
    "    \n",
    "    # Axes adjustments\n",
    "    ax.set_xlim(-10, court_length_px + 10)\n",
    "    ax.set_ylim(-10, court_width_px + 10)\n",
    "    ax.set_aspect('equal')\n",
    "    ax.axis('off')\n",
    " \n",
    "    # Save PNG if desired\n",
    "    if save_path:\n",
    "        pyp.savefig(save_path, dpi=300, bbox_inches='tight')\n",
    "        print(f\"Saved PNG at: {os.path.abspath(save_path)}\")\n",
    "    \n",
    "    # Show in Jupyter\n",
    "    pyp.show()\n",
    "\n",
    "    # Close figure to prevent issues\n",
    "    pyp.close(fig)\n",
    "\n",
    "# Set save path\n",
    "save_path = os.path.expanduser(\"~/Desktop/Assignment1/volleyball_court.png\")\n",
    "\n",
    "# Call the function once\n",
    "draw_volley(save_path=save_path)"
   ]
  },
  {
   "cell_type": "code",
   "execution_count": null,
   "id": "a5a7e857-b2bd-4441-b0fa-e308fdd10410",
   "metadata": {},
   "outputs": [],
   "source": []
  }
 ],
 "metadata": {
  "kernelspec": {
   "display_name": "Python [conda env:base] *",
   "language": "python",
   "name": "conda-base-py"
  },
  "language_info": {
   "codemirror_mode": {
    "name": "ipython",
    "version": 3
   },
   "file_extension": ".py",
   "mimetype": "text/x-python",
   "name": "python",
   "nbconvert_exporter": "python",
   "pygments_lexer": "ipython3",
   "version": "3.13.5"
  }
 },
 "nbformat": 4,
 "nbformat_minor": 5
}
